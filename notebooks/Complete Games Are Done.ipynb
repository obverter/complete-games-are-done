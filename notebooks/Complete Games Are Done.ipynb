{
 "cells": [
  {
   "cell_type": "markdown",
   "metadata": {},
   "source": [
    "# The Complete Game: Once Normal, Now Novel"
   ]
  },
  {
   "cell_type": "markdown",
   "metadata": {},
   "source": [
    "## What We're Looking For\n",
    "The modern professional baseball player comes from a different planet than did their old-timey, horse-and-buggy forebears. Today's game is faster, higher-scoring, and split-second timed. Most players' skill sets and repertoire are specialized and weaponized so as to befuddle, speed past, and overpower the suckers wearing the other-colored caps.\n",
    "\n",
    "This is undisputed.\n",
    "\n",
    "Also undisputed is that the \"professional\" baseball player of ~150 years ago was not a full-time, this-is-all-I-do professional. For its first few decades, baseball was a seasonal job played before crowds of maybe a few hundred spectators for the biggest games. \n",
    "\n",
    "And owing to the vocation's part-time nature, almost nobody crafted their game with a specialized approach — beyond some penchant, preference, or aptitude for one position or another.\n",
    "\n",
    "Of all the positions on the diamond, the starting pitcher's role has changed the most.\n",
    "\n",
    "Relief pitchers weren't really a structured part of the game in its fledgling years. The starting pitcher was the pitcher, and the pitcher usually pitched the entire game.\n",
    "\n",
    "So what changed?"
   ]
  },
  {
   "cell_type": "markdown",
   "metadata": {},
   "source": [
    "We'll need Pandas and its friends."
   ]
  },
  {
   "cell_type": "code",
   "execution_count": 172,
   "metadata": {},
   "outputs": [],
   "source": [
    "import pandas as pd\n",
    "import numpy as np\n",
    "import scipy.stats as stats\n",
    "import matplotlib.pyplot as plt\n",
    "import glob"
   ]
  },
  {
   "cell_type": "markdown",
   "metadata": {},
   "source": [
    "Let's import our data, courtesy of the Lahman Database by way of the Baseball Databank repo."
   ]
  },
  {
   "cell_type": "code",
   "execution_count": 173,
   "metadata": {},
   "outputs": [],
   "source": [
    "list_of_data = glob.glob('../../_data/lahman/core/Pitching*.csv')\n",
    "list_of_dfs = [pd.read_csv(filename) for filename in list_of_data]  # All of our pitching data.\n",
    "homegames = pd.read_csv('../../_data/lahman/core/HomeGames.csv')  # Data about every MLB game that's ever been played."
   ]
  },
  {
   "cell_type": "code",
   "execution_count": 174,
   "metadata": {},
   "outputs": [],
   "source": [
    "for dataframe, filename in zip(list_of_dfs, list_of_data):\n",
    "  dataframe['filename'] = filename"
   ]
  },
  {
   "cell_type": "markdown",
   "metadata": {},
   "source": [
    "Let's squish all of our pitching data into one dataframe and see what we've got."
   ]
  },
  {
   "cell_type": "code",
   "execution_count": 175,
   "metadata": {},
   "outputs": [],
   "source": [
    "combined_df = pd.concat(list_of_dfs, ignore_index=True)"
   ]
  },
  {
   "cell_type": "code",
   "execution_count": 176,
   "metadata": {},
   "outputs": [
    {
     "data": {
      "text/plain": [
       "Index(['playerID', 'yearID', 'round', 'teamID', 'lgID', 'W', 'L', 'G', 'GS',\n",
       "       'CG', 'SHO', 'SV', 'IPouts', 'H', 'ER', 'HR', 'BB', 'SO', 'BAOpp',\n",
       "       'ERA', 'IBB', 'WP', 'HBP', 'BK', 'BFP', 'GF', 'R', 'SH', 'SF', 'GIDP',\n",
       "       'filename', 'stint'],\n",
       "      dtype='object')"
      ]
     },
     "execution_count": 176,
     "metadata": {},
     "output_type": "execute_result"
    }
   ],
   "source": [
    "combined_df.columns"
   ]
  },
  {
   "cell_type": "markdown",
   "metadata": {},
   "source": [
    "Let's drop rows for which there isn't any CG data. There aren't many of these. Records weren't great in the 1870s."
   ]
  },
  {
   "cell_type": "code",
   "execution_count": 177,
   "metadata": {},
   "outputs": [],
   "source": [
    "df = combined_df[combined_df.CG.notnull()]"
   ]
  },
  {
   "cell_type": "markdown",
   "metadata": {},
   "source": [
    "We can pull all of the postseason data out of our pitching dataframe by dropping any rows where there isn't a token describing which round of the playoffs a performance's row represents. We might need this later."
   ]
  },
  {
   "cell_type": "code",
   "execution_count": 178,
   "metadata": {},
   "outputs": [],
   "source": [
    "df_postseason = df.dropna()"
   ]
  },
  {
   "cell_type": "markdown",
   "metadata": {},
   "source": [
    "Okay, here's our starting dataframe."
   ]
  },
  {
   "cell_type": "code",
   "execution_count": 195,
   "metadata": {},
   "outputs": [
    {
     "data": {
      "text/html": [
       "<div>\n",
       "<style scoped>\n",
       "    .dataframe tbody tr th:only-of-type {\n",
       "        vertical-align: middle;\n",
       "    }\n",
       "\n",
       "    .dataframe tbody tr th {\n",
       "        vertical-align: top;\n",
       "    }\n",
       "\n",
       "    .dataframe thead th {\n",
       "        text-align: right;\n",
       "    }\n",
       "</style>\n",
       "<table border=\"1\" class=\"dataframe\">\n",
       "  <thead>\n",
       "    <tr style=\"text-align: right;\">\n",
       "      <th></th>\n",
       "      <th>playerID</th>\n",
       "      <th>yearID</th>\n",
       "      <th>round</th>\n",
       "      <th>teamID</th>\n",
       "      <th>lgID</th>\n",
       "      <th>W</th>\n",
       "      <th>L</th>\n",
       "      <th>G</th>\n",
       "      <th>GS</th>\n",
       "      <th>CG</th>\n",
       "      <th>...</th>\n",
       "      <th>HBP</th>\n",
       "      <th>BK</th>\n",
       "      <th>BFP</th>\n",
       "      <th>GF</th>\n",
       "      <th>R</th>\n",
       "      <th>SH</th>\n",
       "      <th>SF</th>\n",
       "      <th>GIDP</th>\n",
       "      <th>filename</th>\n",
       "      <th>stint</th>\n",
       "    </tr>\n",
       "  </thead>\n",
       "  <tbody>\n",
       "    <tr>\n",
       "      <th>0</th>\n",
       "      <td>becanbu01</td>\n",
       "      <td>1884</td>\n",
       "      <td>WS</td>\n",
       "      <td>NY4</td>\n",
       "      <td>AA</td>\n",
       "      <td>0</td>\n",
       "      <td>1</td>\n",
       "      <td>1</td>\n",
       "      <td>1</td>\n",
       "      <td>1</td>\n",
       "      <td>...</td>\n",
       "      <td>NaN</td>\n",
       "      <td>NaN</td>\n",
       "      <td>NaN</td>\n",
       "      <td>0</td>\n",
       "      <td>12</td>\n",
       "      <td>NaN</td>\n",
       "      <td>NaN</td>\n",
       "      <td>NaN</td>\n",
       "      <td>../../_data/lahman/core/PitchingPost.csv</td>\n",
       "      <td>NaN</td>\n",
       "    </tr>\n",
       "    <tr>\n",
       "      <th>1</th>\n",
       "      <td>keefeti01</td>\n",
       "      <td>1884</td>\n",
       "      <td>WS</td>\n",
       "      <td>NY4</td>\n",
       "      <td>AA</td>\n",
       "      <td>0</td>\n",
       "      <td>2</td>\n",
       "      <td>2</td>\n",
       "      <td>2</td>\n",
       "      <td>2</td>\n",
       "      <td>...</td>\n",
       "      <td>NaN</td>\n",
       "      <td>NaN</td>\n",
       "      <td>NaN</td>\n",
       "      <td>0</td>\n",
       "      <td>9</td>\n",
       "      <td>NaN</td>\n",
       "      <td>NaN</td>\n",
       "      <td>NaN</td>\n",
       "      <td>../../_data/lahman/core/PitchingPost.csv</td>\n",
       "      <td>NaN</td>\n",
       "    </tr>\n",
       "    <tr>\n",
       "      <th>2</th>\n",
       "      <td>radboch01</td>\n",
       "      <td>1884</td>\n",
       "      <td>WS</td>\n",
       "      <td>PRO</td>\n",
       "      <td>NL</td>\n",
       "      <td>3</td>\n",
       "      <td>0</td>\n",
       "      <td>3</td>\n",
       "      <td>3</td>\n",
       "      <td>3</td>\n",
       "      <td>...</td>\n",
       "      <td>NaN</td>\n",
       "      <td>NaN</td>\n",
       "      <td>NaN</td>\n",
       "      <td>0</td>\n",
       "      <td>3</td>\n",
       "      <td>NaN</td>\n",
       "      <td>NaN</td>\n",
       "      <td>NaN</td>\n",
       "      <td>../../_data/lahman/core/PitchingPost.csv</td>\n",
       "      <td>NaN</td>\n",
       "    </tr>\n",
       "  </tbody>\n",
       "</table>\n",
       "<p>3 rows × 32 columns</p>\n",
       "</div>"
      ],
      "text/plain": [
       "    playerID  yearID round teamID lgID  W  L  G  GS  CG  ...  HBP  BK  BFP  \\\n",
       "0  becanbu01    1884    WS    NY4   AA  0  1  1   1   1  ...  NaN NaN  NaN   \n",
       "1  keefeti01    1884    WS    NY4   AA  0  2  2   2   2  ...  NaN NaN  NaN   \n",
       "2  radboch01    1884    WS    PRO   NL  3  0  3   3   3  ...  NaN NaN  NaN   \n",
       "\n",
       "   GF   R  SH  SF  GIDP                                  filename  stint  \n",
       "0   0  12 NaN NaN   NaN  ../../_data/lahman/core/PitchingPost.csv    NaN  \n",
       "1   0   9 NaN NaN   NaN  ../../_data/lahman/core/PitchingPost.csv    NaN  \n",
       "2   0   3 NaN NaN   NaN  ../../_data/lahman/core/PitchingPost.csv    NaN  \n",
       "\n",
       "[3 rows x 32 columns]"
      ]
     },
     "execution_count": 195,
     "metadata": {},
     "output_type": "execute_result"
    }
   ],
   "source": [
    "df.head(3)"
   ]
  },
  {
   "cell_type": "markdown",
   "metadata": {},
   "source": [
    "Let's group everything by year."
   ]
  },
  {
   "cell_type": "code",
   "execution_count": 180,
   "metadata": {},
   "outputs": [],
   "source": [
    "df_yearly = df\n",
    "df_yearly = df_yearly.groupby(df_yearly.yearID).CG.mean()"
   ]
  },
  {
   "cell_type": "markdown",
   "metadata": {},
   "source": [
    "Let's take a quick peek at mean CG per season, league-wide."
   ]
  },
  {
   "cell_type": "code",
   "execution_count": 181,
   "metadata": {},
   "outputs": [],
   "source": [
    "df_yearly = pd.DataFrame(df_yearly)"
   ]
  },
  {
   "cell_type": "code",
   "execution_count": 182,
   "metadata": {},
   "outputs": [
    {
     "data": {
      "text/plain": [
       "<AxesSubplot:xlabel='yearID'>"
      ]
     },
     "execution_count": 182,
     "metadata": {},
     "output_type": "execute_result"
    },
    {
     "data": {
      "image/png": "[encoded data removed]",
      "text/plain": [
       "<Figure size 432x288 with 1 Axes>"
      ]
     },
     "metadata": {
      "needs_background": "light"
     },
     "output_type": "display_data"
    }
   ],
   "source": [
    "df_yearly.plot.line()"
   ]
  },
  {
   "cell_type": "markdown",
   "metadata": {},
   "source": [
    "That looks like a strong trend. Let's write that to a csv so we can plot it elsewhere. And by elsewhere I mean ***anywhere*** else."
   ]
  },
  {
   "cell_type": "code",
   "execution_count": 183,
   "metadata": {},
   "outputs": [],
   "source": [
    "df_yearly.to_csv('yearly_cg.csv')"
   ]
  },
  {
   "cell_type": "markdown",
   "metadata": {},
   "source": [
    "Since we're looking at a long-term trend, individual years — never mind individual player performances — is more granular than we need to get. So let's make a copy of our DataFrame where everything is aggregated into decade-sized buckets."
   ]
  },
  {
   "cell_type": "code",
   "execution_count": 184,
   "metadata": {},
   "outputs": [],
   "source": [
    "season_decades = df\n",
    "season_decades = season_decades.groupby((season_decades.yearID//10)*10).CG.mean()\n",
    "df_decades = pd.DataFrame(season_decades)"
   ]
  },
  {
   "cell_type": "markdown",
   "metadata": {},
   "source": [
    "Here's the average number of Complete Games thrown per season per decade. We can already see a pretty spectacular trend."
   ]
  },
  {
   "cell_type": "code",
   "execution_count": 185,
   "metadata": {},
   "outputs": [
    {
     "data": {
      "text/html": [
       "<div>\n",
       "<style scoped>\n",
       "    .dataframe tbody tr th:only-of-type {\n",
       "        vertical-align: middle;\n",
       "    }\n",
       "\n",
       "    .dataframe tbody tr th {\n",
       "        vertical-align: top;\n",
       "    }\n",
       "\n",
       "    .dataframe thead th {\n",
       "        text-align: right;\n",
       "    }\n",
       "</style>\n",
       "<table border=\"1\" class=\"dataframe\">\n",
       "  <thead>\n",
       "    <tr style=\"text-align: right;\">\n",
       "      <th></th>\n",
       "      <th>CG</th>\n",
       "    </tr>\n",
       "    <tr>\n",
       "      <th>yearID</th>\n",
       "      <th></th>\n",
       "    </tr>\n",
       "  </thead>\n",
       "  <tbody>\n",
       "    <tr>\n",
       "      <th>1870</th>\n",
       "      <td>16.047210</td>\n",
       "    </tr>\n",
       "    <tr>\n",
       "      <th>1880</th>\n",
       "      <td>14.353913</td>\n",
       "    </tr>\n",
       "    <tr>\n",
       "      <th>1890</th>\n",
       "      <td>12.490347</td>\n",
       "    </tr>\n",
       "    <tr>\n",
       "      <th>1900</th>\n",
       "      <td>10.956681</td>\n",
       "    </tr>\n",
       "    <tr>\n",
       "      <th>1910</th>\n",
       "      <td>6.261317</td>\n",
       "    </tr>\n",
       "    <tr>\n",
       "      <th>1920</th>\n",
       "      <td>5.377078</td>\n",
       "    </tr>\n",
       "    <tr>\n",
       "      <th>1930</th>\n",
       "      <td>4.786985</td>\n",
       "    </tr>\n",
       "    <tr>\n",
       "      <th>1940</th>\n",
       "      <td>4.080800</td>\n",
       "    </tr>\n",
       "    <tr>\n",
       "      <th>1950</th>\n",
       "      <td>3.018116</td>\n",
       "    </tr>\n",
       "    <tr>\n",
       "      <th>1960</th>\n",
       "      <td>2.361808</td>\n",
       "    </tr>\n",
       "  </tbody>\n",
       "</table>\n",
       "</div>"
      ],
      "text/plain": [
       "               CG\n",
       "yearID           \n",
       "1870    16.047210\n",
       "1880    14.353913\n",
       "1890    12.490347\n",
       "1900    10.956681\n",
       "1910     6.261317\n",
       "1920     5.377078\n",
       "1930     4.786985\n",
       "1940     4.080800\n",
       "1950     3.018116\n",
       "1960     2.361808"
      ]
     },
     "execution_count": 185,
     "metadata": {},
     "output_type": "execute_result"
    }
   ],
   "source": [
    "df_decades.head(10)"
   ]
  },
  {
   "cell_type": "markdown",
   "metadata": {},
   "source": [
    "But let's bring in some additional context that might help us contextualize this trend. Maybe batting averages or run-scoring have gone way up over time. If League-average offensive production has dramatically increased, it would stand to reason that fewer pitchers are making it all the way through the end of the game without being replaced during the game."
   ]
  },
  {
   "cell_type": "code",
   "execution_count": 186,
   "metadata": {},
   "outputs": [],
   "source": [
    "df_decades['cg_total'] = df.groupby((df.yearID//10)*10).CG.sum()\n",
    "df_decades['p_mean'] = df.groupby((df.yearID//10)*10).playerID.count() / 10\n",
    "df_decades['total_pitchers'] = df.groupby((df.yearID//10)*10).playerID.count()\n",
    "df_decades['League Batting Average'] = df.groupby((df.yearID//10)*10).BAOpp.median()\n",
    "df_decades['median_era'] = df.groupby((df.yearID//10)*10).ERA.median()"
   ]
  },
  {
   "cell_type": "markdown",
   "metadata": {},
   "source": [
    "We're going to drop the 2020s for a couple of reasons:\n",
    "1. As of this writing, the 2020s aren't yet complete. And since we're looking at ~150 years' worth of historical trends, it's reasonable to end our window after 2019.\n",
    "2. The COVID-19 pandemic wrecked baseball's structure in 2020. Only about half of the season's games were played, and those games were played under a temporary, atypical rule set that affected the stats that we're looking at here to a significant (albeit minor) degree."
   ]
  },
  {
   "cell_type": "code",
   "execution_count": 187,
   "metadata": {},
   "outputs": [],
   "source": [
    "df_decades = df_decades.drop(index=2020)"
   ]
  },
  {
   "cell_type": "markdown",
   "metadata": {},
   "source": [
    "Let's bring in some data about the number of baseball games that have been played overall."
   ]
  },
  {
   "cell_type": "code",
   "execution_count": 188,
   "metadata": {},
   "outputs": [],
   "source": [
    "homegames = homegames.rename(columns={'year.key': 'season'})"
   ]
  },
  {
   "cell_type": "code",
   "execution_count": 189,
   "metadata": {},
   "outputs": [],
   "source": [
    "homegames_decade = homegames.groupby((homegames.season//10)*10).sum()"
   ]
  },
  {
   "cell_type": "code",
   "execution_count": 190,
   "metadata": {},
   "outputs": [
    {
     "data": {
      "text/html": [
       "<div>\n",
       "<style scoped>\n",
       "    .dataframe tbody tr th:only-of-type {\n",
       "        vertical-align: middle;\n",
       "    }\n",
       "\n",
       "    .dataframe tbody tr th {\n",
       "        vertical-align: top;\n",
       "    }\n",
       "\n",
       "    .dataframe thead th {\n",
       "        text-align: right;\n",
       "    }\n",
       "</style>\n",
       "<table border=\"1\" class=\"dataframe\">\n",
       "  <thead>\n",
       "    <tr style=\"text-align: right;\">\n",
       "      <th></th>\n",
       "      <th>season</th>\n",
       "      <th>games</th>\n",
       "      <th>openings</th>\n",
       "      <th>attendance</th>\n",
       "    </tr>\n",
       "    <tr>\n",
       "      <th>season</th>\n",
       "      <th></th>\n",
       "      <th></th>\n",
       "      <th></th>\n",
       "      <th></th>\n",
       "    </tr>\n",
       "  </thead>\n",
       "  <tbody>\n",
       "    <tr>\n",
       "      <th>1870</th>\n",
       "      <td>204311</td>\n",
       "      <td>2031</td>\n",
       "      <td>791</td>\n",
       "      <td>1164123</td>\n",
       "    </tr>\n",
       "    <tr>\n",
       "      <th>1880</th>\n",
       "      <td>360043</td>\n",
       "      <td>8759</td>\n",
       "      <td>162</td>\n",
       "      <td>906016</td>\n",
       "    </tr>\n",
       "    <tr>\n",
       "      <th>1890</th>\n",
       "      <td>321965</td>\n",
       "      <td>9471</td>\n",
       "      <td>851</td>\n",
       "      <td>3183789</td>\n",
       "    </tr>\n",
       "    <tr>\n",
       "      <th>1900</th>\n",
       "      <td>318067</td>\n",
       "      <td>11342</td>\n",
       "      <td>9731</td>\n",
       "      <td>52013077</td>\n",
       "    </tr>\n",
       "    <tr>\n",
       "      <th>1910</th>\n",
       "      <td>352254</td>\n",
       "      <td>13324</td>\n",
       "      <td>9740</td>\n",
       "      <td>65649894</td>\n",
       "    </tr>\n",
       "    <tr>\n",
       "      <th>1920</th>\n",
       "      <td>313696</td>\n",
       "      <td>12323</td>\n",
       "      <td>8233</td>\n",
       "      <td>92620839</td>\n",
       "    </tr>\n",
       "    <tr>\n",
       "      <th>1930</th>\n",
       "      <td>326933</td>\n",
       "      <td>12311</td>\n",
       "      <td>9765</td>\n",
       "      <td>94281914</td>\n",
       "    </tr>\n",
       "    <tr>\n",
       "      <th>1940</th>\n",
       "      <td>326667</td>\n",
       "      <td>12376</td>\n",
       "      <td>10077</td>\n",
       "      <td>141735385</td>\n",
       "    </tr>\n",
       "    <tr>\n",
       "      <th>1950</th>\n",
       "      <td>316633</td>\n",
       "      <td>12374</td>\n",
       "      <td>10658</td>\n",
       "      <td>165620628</td>\n",
       "    </tr>\n",
       "    <tr>\n",
       "      <th>1960</th>\n",
       "      <td>394917</td>\n",
       "      <td>15961</td>\n",
       "      <td>14227</td>\n",
       "      <td>224532346</td>\n",
       "    </tr>\n",
       "    <tr>\n",
       "      <th>1970</th>\n",
       "      <td>489688</td>\n",
       "      <td>19806</td>\n",
       "      <td>18372</td>\n",
       "      <td>329339383</td>\n",
       "    </tr>\n",
       "    <tr>\n",
       "      <th>1980</th>\n",
       "      <td>517959</td>\n",
       "      <td>20337</td>\n",
       "      <td>19724</td>\n",
       "      <td>459254207</td>\n",
       "    </tr>\n",
       "    <tr>\n",
       "      <th>1990</th>\n",
       "      <td>566493</td>\n",
       "      <td>21594</td>\n",
       "      <td>21306</td>\n",
       "      <td>602644137</td>\n",
       "    </tr>\n",
       "    <tr>\n",
       "      <th>2000</th>\n",
       "      <td>625404</td>\n",
       "      <td>24291</td>\n",
       "      <td>24155</td>\n",
       "      <td>736413405</td>\n",
       "    </tr>\n",
       "    <tr>\n",
       "      <th>2010</th>\n",
       "      <td>646687</td>\n",
       "      <td>24297</td>\n",
       "      <td>24207</td>\n",
       "      <td>726936373</td>\n",
       "    </tr>\n",
       "    <tr>\n",
       "      <th>2020</th>\n",
       "      <td>171735</td>\n",
       "      <td>3327</td>\n",
       "      <td>2397</td>\n",
       "      <td>45304109</td>\n",
       "    </tr>\n",
       "  </tbody>\n",
       "</table>\n",
       "</div>"
      ],
      "text/plain": [
       "        season  games  openings  attendance\n",
       "season                                     \n",
       "1870    204311   2031       791     1164123\n",
       "1880    360043   8759       162      906016\n",
       "1890    321965   9471       851     3183789\n",
       "1900    318067  11342      9731    52013077\n",
       "1910    352254  13324      9740    65649894\n",
       "1920    313696  12323      8233    92620839\n",
       "1930    326933  12311      9765    94281914\n",
       "1940    326667  12376     10077   141735385\n",
       "1950    316633  12374     10658   165620628\n",
       "1960    394917  15961     14227   224532346\n",
       "1970    489688  19806     18372   329339383\n",
       "1980    517959  20337     19724   459254207\n",
       "1990    566493  21594     21306   602644137\n",
       "2000    625404  24291     24155   736413405\n",
       "2010    646687  24297     24207   726936373\n",
       "2020    171735   3327      2397    45304109"
      ]
     },
     "execution_count": 190,
     "metadata": {},
     "output_type": "execute_result"
    }
   ],
   "source": [
    "homegames_decade"
   ]
  },
  {
   "cell_type": "markdown",
   "metadata": {},
   "source": [
    "Baseball is asymmetrical in that the offense and the defense are discrete subsets of each team's participation in a game, and that the performance of those subsets is distinct and wildly different in form. The defense cannot score while the offense is batting, and the defense cannot switch to offense until the other team's offense has been retired. Compare this to hockey or basketball, where offensive and defensive roles are fluid and not expressly delimited. \n",
    "\n",
    "Because each team plays offense and defense equally, each game can have up to two Complete Games. And since we're looking at overall team defensive outings as a metric against which performances can be measured, we'll multiply the total number of games by two. "
   ]
  },
  {
   "cell_type": "code",
   "execution_count": 191,
   "metadata": {},
   "outputs": [],
   "source": [
    "df_decades['team_outings'] = homegames_decade.games * 2"
   ]
  },
  {
   "cell_type": "markdown",
   "metadata": {},
   "source": [
    "Let's give ourselves a handy column that describes the ratio of League-total defensive outings to League-total complete games."
   ]
  },
  {
   "cell_type": "code",
   "execution_count": 192,
   "metadata": {},
   "outputs": [],
   "source": [
    "df_decades['outings_per_cg'] = df_decades['team_outings'] / df_decades['cg_total']"
   ]
  },
  {
   "cell_type": "code",
   "execution_count": 193,
   "metadata": {},
   "outputs": [
    {
     "data": {
      "text/html": [
       "<div>\n",
       "<style scoped>\n",
       "    .dataframe tbody tr th:only-of-type {\n",
       "        vertical-align: middle;\n",
       "    }\n",
       "\n",
       "    .dataframe tbody tr th {\n",
       "        vertical-align: top;\n",
       "    }\n",
       "\n",
       "    .dataframe thead th {\n",
       "        text-align: right;\n",
       "    }\n",
       "</style>\n",
       "<table border=\"1\" class=\"dataframe\">\n",
       "  <thead>\n",
       "    <tr style=\"text-align: right;\">\n",
       "      <th></th>\n",
       "      <th>CG</th>\n",
       "      <th>cg_total</th>\n",
       "      <th>p_mean</th>\n",
       "      <th>total_pitchers</th>\n",
       "      <th>League Batting Average</th>\n",
       "      <th>median_era</th>\n",
       "      <th>team_outings</th>\n",
       "      <th>outings_per_cg</th>\n",
       "    </tr>\n",
       "    <tr>\n",
       "      <th>yearID</th>\n",
       "      <th></th>\n",
       "      <th></th>\n",
       "      <th></th>\n",
       "      <th></th>\n",
       "      <th></th>\n",
       "      <th></th>\n",
       "      <th></th>\n",
       "      <th></th>\n",
       "    </tr>\n",
       "  </thead>\n",
       "  <tbody>\n",
       "    <tr>\n",
       "      <th>1870</th>\n",
       "      <td>16.047210</td>\n",
       "      <td>3739</td>\n",
       "      <td>23.3</td>\n",
       "      <td>233</td>\n",
       "      <td>NaN</td>\n",
       "      <td>3.050</td>\n",
       "      <td>4062</td>\n",
       "      <td>1.086387</td>\n",
       "    </tr>\n",
       "    <tr>\n",
       "      <th>1880</th>\n",
       "      <td>14.353913</td>\n",
       "      <td>16507</td>\n",
       "      <td>115.0</td>\n",
       "      <td>1150</td>\n",
       "      <td>NaN</td>\n",
       "      <td>3.805</td>\n",
       "      <td>17518</td>\n",
       "      <td>1.061247</td>\n",
       "    </tr>\n",
       "    <tr>\n",
       "      <th>1890</th>\n",
       "      <td>12.490347</td>\n",
       "      <td>16175</td>\n",
       "      <td>129.5</td>\n",
       "      <td>1295</td>\n",
       "      <td>NaN</td>\n",
       "      <td>4.500</td>\n",
       "      <td>18942</td>\n",
       "      <td>1.171066</td>\n",
       "    </tr>\n",
       "    <tr>\n",
       "      <th>1900</th>\n",
       "      <td>10.956681</td>\n",
       "      <td>17958</td>\n",
       "      <td>163.9</td>\n",
       "      <td>1639</td>\n",
       "      <td>0.2305</td>\n",
       "      <td>3.000</td>\n",
       "      <td>22684</td>\n",
       "      <td>1.263170</td>\n",
       "    </tr>\n",
       "    <tr>\n",
       "      <th>1910</th>\n",
       "      <td>6.261317</td>\n",
       "      <td>15215</td>\n",
       "      <td>243.0</td>\n",
       "      <td>2430</td>\n",
       "      <td>0.2600</td>\n",
       "      <td>3.170</td>\n",
       "      <td>26648</td>\n",
       "      <td>1.751430</td>\n",
       "    </tr>\n",
       "    <tr>\n",
       "      <th>1920</th>\n",
       "      <td>5.377078</td>\n",
       "      <td>12292</td>\n",
       "      <td>228.6</td>\n",
       "      <td>2286</td>\n",
       "      <td>0.2900</td>\n",
       "      <td>4.320</td>\n",
       "      <td>24646</td>\n",
       "      <td>2.005044</td>\n",
       "    </tr>\n",
       "    <tr>\n",
       "      <th>1930</th>\n",
       "      <td>4.786985</td>\n",
       "      <td>11034</td>\n",
       "      <td>230.5</td>\n",
       "      <td>2305</td>\n",
       "      <td>0.2800</td>\n",
       "      <td>4.500</td>\n",
       "      <td>24622</td>\n",
       "      <td>2.231466</td>\n",
       "    </tr>\n",
       "    <tr>\n",
       "      <th>1940</th>\n",
       "      <td>4.080800</td>\n",
       "      <td>10606</td>\n",
       "      <td>259.9</td>\n",
       "      <td>2599</td>\n",
       "      <td>0.2600</td>\n",
       "      <td>3.990</td>\n",
       "      <td>24752</td>\n",
       "      <td>2.333773</td>\n",
       "    </tr>\n",
       "    <tr>\n",
       "      <th>1950</th>\n",
       "      <td>3.018116</td>\n",
       "      <td>8330</td>\n",
       "      <td>276.0</td>\n",
       "      <td>2760</td>\n",
       "      <td>0.2600</td>\n",
       "      <td>4.165</td>\n",
       "      <td>24748</td>\n",
       "      <td>2.970948</td>\n",
       "    </tr>\n",
       "    <tr>\n",
       "      <th>1960</th>\n",
       "      <td>2.361808</td>\n",
       "      <td>8101</td>\n",
       "      <td>343.0</td>\n",
       "      <td>3430</td>\n",
       "      <td>0.2500</td>\n",
       "      <td>3.760</td>\n",
       "      <td>31922</td>\n",
       "      <td>3.940501</td>\n",
       "    </tr>\n",
       "    <tr>\n",
       "      <th>1970</th>\n",
       "      <td>2.372208</td>\n",
       "      <td>10089</td>\n",
       "      <td>425.3</td>\n",
       "      <td>4253</td>\n",
       "      <td>0.2610</td>\n",
       "      <td>3.860</td>\n",
       "      <td>39612</td>\n",
       "      <td>3.926256</td>\n",
       "    </tr>\n",
       "    <tr>\n",
       "      <th>1980</th>\n",
       "      <td>1.321495</td>\n",
       "      <td>6400</td>\n",
       "      <td>484.3</td>\n",
       "      <td>4843</td>\n",
       "      <td>0.2630</td>\n",
       "      <td>3.950</td>\n",
       "      <td>40674</td>\n",
       "      <td>6.355313</td>\n",
       "    </tr>\n",
       "    <tr>\n",
       "      <th>1990</th>\n",
       "      <td>0.500850</td>\n",
       "      <td>3240</td>\n",
       "      <td>646.9</td>\n",
       "      <td>6469</td>\n",
       "      <td>0.2680</td>\n",
       "      <td>4.410</td>\n",
       "      <td>43188</td>\n",
       "      <td>13.329630</td>\n",
       "    </tr>\n",
       "    <tr>\n",
       "      <th>2000</th>\n",
       "      <td>0.214556</td>\n",
       "      <td>1760</td>\n",
       "      <td>820.3</td>\n",
       "      <td>8203</td>\n",
       "      <td>0.2685</td>\n",
       "      <td>4.500</td>\n",
       "      <td>48582</td>\n",
       "      <td>27.603409</td>\n",
       "    </tr>\n",
       "    <tr>\n",
       "      <th>2010</th>\n",
       "      <td>0.110890</td>\n",
       "      <td>1057</td>\n",
       "      <td>953.2</td>\n",
       "      <td>9532</td>\n",
       "      <td>0.2540</td>\n",
       "      <td>4.120</td>\n",
       "      <td>48594</td>\n",
       "      <td>45.973510</td>\n",
       "    </tr>\n",
       "  </tbody>\n",
       "</table>\n",
       "</div>"
      ],
      "text/plain": [
       "               CG  cg_total  p_mean  total_pitchers  League Batting Average  \\\n",
       "yearID                                                                        \n",
       "1870    16.047210      3739    23.3             233                     NaN   \n",
       "1880    14.353913     16507   115.0            1150                     NaN   \n",
       "1890    12.490347     16175   129.5            1295                     NaN   \n",
       "1900    10.956681     17958   163.9            1639                  0.2305   \n",
       "1910     6.261317     15215   243.0            2430                  0.2600   \n",
       "1920     5.377078     12292   228.6            2286                  0.2900   \n",
       "1930     4.786985     11034   230.5            2305                  0.2800   \n",
       "1940     4.080800     10606   259.9            2599                  0.2600   \n",
       "1950     3.018116      8330   276.0            2760                  0.2600   \n",
       "1960     2.361808      8101   343.0            3430                  0.2500   \n",
       "1970     2.372208     10089   425.3            4253                  0.2610   \n",
       "1980     1.321495      6400   484.3            4843                  0.2630   \n",
       "1990     0.500850      3240   646.9            6469                  0.2680   \n",
       "2000     0.214556      1760   820.3            8203                  0.2685   \n",
       "2010     0.110890      1057   953.2            9532                  0.2540   \n",
       "\n",
       "        median_era  team_outings  outings_per_cg  \n",
       "yearID                                            \n",
       "1870         3.050          4062        1.086387  \n",
       "1880         3.805         17518        1.061247  \n",
       "1890         4.500         18942        1.171066  \n",
       "1900         3.000         22684        1.263170  \n",
       "1910         3.170         26648        1.751430  \n",
       "1920         4.320         24646        2.005044  \n",
       "1930         4.500         24622        2.231466  \n",
       "1940         3.990         24752        2.333773  \n",
       "1950         4.165         24748        2.970948  \n",
       "1960         3.760         31922        3.940501  \n",
       "1970         3.860         39612        3.926256  \n",
       "1980         3.950         40674        6.355313  \n",
       "1990         4.410         43188       13.329630  \n",
       "2000         4.500         48582       27.603409  \n",
       "2010         4.120         48594       45.973510  "
      ]
     },
     "execution_count": 193,
     "metadata": {},
     "output_type": "execute_result"
    }
   ],
   "source": [
    "df_decades"
   ]
  },
  {
   "cell_type": "markdown",
   "metadata": {},
   "source": [
    "There's plenty here to work with, now. Let's export this and boogie."
   ]
  },
  {
   "cell_type": "code",
   "execution_count": 194,
   "metadata": {},
   "outputs": [],
   "source": [
    "df_decades.to_csv('cgtrends.csv')"
   ]
  }
 ],
 "metadata": {
  "kernelspec": {
   "display_name": "Python 3.10.3 64-bit ('3.10.3')",
   "language": "python",
   "name": "python3"
  },
  "language_info": {
   "codemirror_mode": {
    "name": "ipython",
    "version": 3
   },
   "file_extension": ".py",
   "mimetype": "text/x-python",
   "name": "python",
   "nbconvert_exporter": "python",
   "pygments_lexer": "ipython3",
   "version": "3.10.3"
  },
  "orig_nbformat": 4,
  "vscode": {
   "interpreter": {
    "hash": "10626171d4353dd8d0f12b0dae77464b904fee8f635bb045a55f368206a04bde"
   }
  }
 },
 "nbformat": 4,
 "nbformat_minor": 2
}
